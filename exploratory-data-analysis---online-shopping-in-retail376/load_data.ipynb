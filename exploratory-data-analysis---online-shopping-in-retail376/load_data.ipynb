{
 "cells": [
  {
   "cell_type": "code",
   "execution_count": 1,
   "metadata": {},
   "outputs": [
    {
     "name": "stdout",
     "output_type": "stream",
     "text": [
      "✅ Loaded data: 12330 rows, 17 columns\n",
      "   administrative  administrative_duration  informational  \\\n",
      "0             0.0                      0.0              0   \n",
      "1             0.0                      0.0              0   \n",
      "2             2.0                     99.4              0   \n",
      "3             0.0                      0.0              0   \n",
      "4             0.0                      0.0              0   \n",
      "\n",
      "   informational_duration  product_related  product_related_duration  \\\n",
      "0                     0.0              4.0                       0.0   \n",
      "1                     0.0             26.0                     876.0   \n",
      "2                     0.0             19.0                     368.0   \n",
      "3                     0.0             20.0                    1432.0   \n",
      "4                     0.0             33.0                     694.0   \n",
      "\n",
      "   bounce_rates  exit_rates  page_values month operating_systems  \\\n",
      "0        0.2000       0.200          0.0   May           Android   \n",
      "1        0.0000       0.026          0.0   Nov           Windows   \n",
      "2        0.0396       0.052          0.0   Sep           Windows   \n",
      "3        0.0248       0.028          1.8   Dec           Windows   \n",
      "4        0.0141       0.032          0.0   May           Android   \n",
      "\n",
      "         browser          region   traffic_type       visitor_type  weekend  \\\n",
      "0  Google Chrome   North America        Twitter  Returning_Visitor    False   \n",
      "1  Google Chrome  Western Europe  Google search  Returning_Visitor     True   \n",
      "2  Google Chrome            Asia        Twitter  Returning_Visitor    False   \n",
      "3  Google Chrome  Western Europe  Instagram ads  Returning_Visitor    False   \n",
      "4  Google Chrome   North America  Instagram ads  Returning_Visitor    False   \n",
      "\n",
      "   revenue  \n",
      "0    False  \n",
      "1    False  \n",
      "2    False  \n",
      "3     True  \n",
      "4    False  \n"
     ]
    }
   ],
   "source": []
  },
  {
   "cell_type": "code",
   "execution_count": null,
   "metadata": {},
   "outputs": [],
   "source": []
  },
  {
   "cell_type": "code",
   "execution_count": null,
   "metadata": {},
   "outputs": [],
   "source": [
    "import pandas as pd  \n",
    "\n",
    "file_path = r\"C:\\Users\\nieve\\exploratory-data-analysis---online-shopping-in-retail376\\customer_activity_data.csv\"\n",
    "df = pd.read_csv(file_path)\n",
    "\n",
    "# All columns\n",
    "pd.set_option(\"display.max_columns\", None)\n",
    "\n",
    "print(f\"✅ Loaded data: {df.shape[0]} rows, {df.shape[1]} columns\")\n",
    "print(df.head())  # First 5 rows"
   ]
  }
 ],
 "metadata": {
  "kernelspec": {
   "display_name": "base",
   "language": "python",
   "name": "python3"
  },
  "language_info": {
   "codemirror_mode": {
    "name": "ipython",
    "version": 3
   },
   "file_extension": ".py",
   "mimetype": "text/x-python",
   "name": "python",
   "nbconvert_exporter": "python",
   "pygments_lexer": "ipython3",
   "version": "3.12.3"
  }
 },
 "nbformat": 4,
 "nbformat_minor": 2
}
