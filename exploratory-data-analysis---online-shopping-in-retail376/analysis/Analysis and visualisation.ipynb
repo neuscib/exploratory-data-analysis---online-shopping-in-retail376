{
 "cells": [
  {
   "cell_type": "code",
   "execution_count": 2,
   "id": "80fe4b40-92a9-41de-ba61-1321a400f798",
   "metadata": {},
   "outputs": [
    {
     "data": {
      "text/html": [
       "<div>\n",
       "<style scoped>\n",
       "    .dataframe tbody tr th:only-of-type {\n",
       "        vertical-align: middle;\n",
       "    }\n",
       "\n",
       "    .dataframe tbody tr th {\n",
       "        vertical-align: top;\n",
       "    }\n",
       "\n",
       "    .dataframe thead th {\n",
       "        text-align: right;\n",
       "    }\n",
       "</style>\n",
       "<table border=\"1\" class=\"dataframe\">\n",
       "  <thead>\n",
       "    <tr style=\"text-align: right;\">\n",
       "      <th></th>\n",
       "      <th>administrative</th>\n",
       "      <th>administrative_duration</th>\n",
       "      <th>informational</th>\n",
       "      <th>informational_duration</th>\n",
       "      <th>product_related</th>\n",
       "      <th>product_related_duration</th>\n",
       "      <th>bounce_rates</th>\n",
       "      <th>exit_rates</th>\n",
       "      <th>page_values</th>\n",
       "      <th>month</th>\n",
       "      <th>operating_systems</th>\n",
       "      <th>browser</th>\n",
       "      <th>region</th>\n",
       "      <th>traffic_type</th>\n",
       "      <th>visitor_type</th>\n",
       "      <th>weekend</th>\n",
       "      <th>revenue</th>\n",
       "    </tr>\n",
       "  </thead>\n",
       "  <tbody>\n",
       "    <tr>\n",
       "      <th>0</th>\n",
       "      <td>0.0</td>\n",
       "      <td>0.0</td>\n",
       "      <td>0</td>\n",
       "      <td>0.0</td>\n",
       "      <td>4.0</td>\n",
       "      <td>0.0</td>\n",
       "      <td>0.2000</td>\n",
       "      <td>0.200</td>\n",
       "      <td>0.0</td>\n",
       "      <td>May</td>\n",
       "      <td>Android</td>\n",
       "      <td>Google Chrome</td>\n",
       "      <td>North America</td>\n",
       "      <td>Twitter</td>\n",
       "      <td>Returning_Visitor</td>\n",
       "      <td>False</td>\n",
       "      <td>False</td>\n",
       "    </tr>\n",
       "    <tr>\n",
       "      <th>1</th>\n",
       "      <td>0.0</td>\n",
       "      <td>0.0</td>\n",
       "      <td>0</td>\n",
       "      <td>0.0</td>\n",
       "      <td>26.0</td>\n",
       "      <td>876.0</td>\n",
       "      <td>0.0000</td>\n",
       "      <td>0.026</td>\n",
       "      <td>0.0</td>\n",
       "      <td>Nov</td>\n",
       "      <td>Windows</td>\n",
       "      <td>Google Chrome</td>\n",
       "      <td>Western Europe</td>\n",
       "      <td>Google search</td>\n",
       "      <td>Returning_Visitor</td>\n",
       "      <td>True</td>\n",
       "      <td>False</td>\n",
       "    </tr>\n",
       "    <tr>\n",
       "      <th>2</th>\n",
       "      <td>2.0</td>\n",
       "      <td>99.4</td>\n",
       "      <td>0</td>\n",
       "      <td>0.0</td>\n",
       "      <td>19.0</td>\n",
       "      <td>368.0</td>\n",
       "      <td>0.0396</td>\n",
       "      <td>0.052</td>\n",
       "      <td>0.0</td>\n",
       "      <td>Sep</td>\n",
       "      <td>Windows</td>\n",
       "      <td>Google Chrome</td>\n",
       "      <td>Asia</td>\n",
       "      <td>Twitter</td>\n",
       "      <td>Returning_Visitor</td>\n",
       "      <td>False</td>\n",
       "      <td>False</td>\n",
       "    </tr>\n",
       "    <tr>\n",
       "      <th>3</th>\n",
       "      <td>0.0</td>\n",
       "      <td>0.0</td>\n",
       "      <td>0</td>\n",
       "      <td>0.0</td>\n",
       "      <td>20.0</td>\n",
       "      <td>1432.0</td>\n",
       "      <td>0.0248</td>\n",
       "      <td>0.028</td>\n",
       "      <td>1.8</td>\n",
       "      <td>Dec</td>\n",
       "      <td>Windows</td>\n",
       "      <td>Google Chrome</td>\n",
       "      <td>Western Europe</td>\n",
       "      <td>Instagram ads</td>\n",
       "      <td>Returning_Visitor</td>\n",
       "      <td>False</td>\n",
       "      <td>True</td>\n",
       "    </tr>\n",
       "    <tr>\n",
       "      <th>4</th>\n",
       "      <td>0.0</td>\n",
       "      <td>0.0</td>\n",
       "      <td>0</td>\n",
       "      <td>0.0</td>\n",
       "      <td>33.0</td>\n",
       "      <td>694.0</td>\n",
       "      <td>0.0141</td>\n",
       "      <td>0.032</td>\n",
       "      <td>0.0</td>\n",
       "      <td>May</td>\n",
       "      <td>Android</td>\n",
       "      <td>Google Chrome</td>\n",
       "      <td>North America</td>\n",
       "      <td>Instagram ads</td>\n",
       "      <td>Returning_Visitor</td>\n",
       "      <td>False</td>\n",
       "      <td>False</td>\n",
       "    </tr>\n",
       "  </tbody>\n",
       "</table>\n",
       "</div>"
      ],
      "text/plain": [
       "   administrative  administrative_duration  informational  \\\n",
       "0             0.0                      0.0              0   \n",
       "1             0.0                      0.0              0   \n",
       "2             2.0                     99.4              0   \n",
       "3             0.0                      0.0              0   \n",
       "4             0.0                      0.0              0   \n",
       "\n",
       "   informational_duration  product_related  product_related_duration  \\\n",
       "0                     0.0              4.0                       0.0   \n",
       "1                     0.0             26.0                     876.0   \n",
       "2                     0.0             19.0                     368.0   \n",
       "3                     0.0             20.0                    1432.0   \n",
       "4                     0.0             33.0                     694.0   \n",
       "\n",
       "   bounce_rates  exit_rates  page_values month operating_systems  \\\n",
       "0        0.2000       0.200          0.0   May           Android   \n",
       "1        0.0000       0.026          0.0   Nov           Windows   \n",
       "2        0.0396       0.052          0.0   Sep           Windows   \n",
       "3        0.0248       0.028          1.8   Dec           Windows   \n",
       "4        0.0141       0.032          0.0   May           Android   \n",
       "\n",
       "         browser          region   traffic_type       visitor_type  weekend  \\\n",
       "0  Google Chrome   North America        Twitter  Returning_Visitor    False   \n",
       "1  Google Chrome  Western Europe  Google search  Returning_Visitor     True   \n",
       "2  Google Chrome            Asia        Twitter  Returning_Visitor    False   \n",
       "3  Google Chrome  Western Europe  Instagram ads  Returning_Visitor    False   \n",
       "4  Google Chrome   North America  Instagram ads  Returning_Visitor    False   \n",
       "\n",
       "   revenue  \n",
       "0    False  \n",
       "1    False  \n",
       "2    False  \n",
       "3     True  \n",
       "4    False  "
      ]
     },
     "execution_count": 2,
     "metadata": {},
     "output_type": "execute_result"
    }
   ],
   "source": [
    "import pandas as pd\n",
    "\n",
    "# Path to the CSV file\n",
    "file_path = r\"C:\\Users\\nieve\\exploratory-data-analysis---online-shopping-in-retail376\\CSV FILES\\transformed_data.csv\"\n",
    "\n",
    "# Load the CSV into a DataFrame\n",
    "df = pd.read_csv(file_path)\n",
    "\n",
    "# Display the first few rows to verify everything is correct\n",
    "df.head()\n"
   ]
  },
  {
   "cell_type": "code",
   "execution_count": null,
   "id": "7a4085e4-a19b-4976-a07d-d7074cfe3bf9",
   "metadata": {},
   "outputs": [],
   "source": [
    "1. Are sales proportionally happening more on weekends?"
   ]
  },
  {
   "cell_type": "code",
   "execution_count": 5,
   "id": "1fae7c10-718d-47e3-9667-23135af75b93",
   "metadata": {},
   "outputs": [
    {
     "name": "stdout",
     "output_type": "stream",
     "text": [
      "Sales on weekends: 22.63% of total sales\n"
     ]
    }
   ],
   "source": [
    "# Calculate total sales on weekends and weekdays\n",
    "weekend_sales = df[df[\"weekend\"] == 1][\"revenue\"].sum()\n",
    "weekday_sales = df[df[\"weekend\"] == 0][\"revenue\"].sum()\n",
    "\n",
    "# Calculate the percentage of weekend sales\n",
    "weekend_percentage = (weekend_sales / (weekend_sales + weekday_sales)) * 100\n",
    "\n",
    "print(f\"Sales on weekends: {weekend_percentage:.2f}% of total sales\")\n"
   ]
  },
  {
   "cell_type": "code",
   "execution_count": null,
   "id": "3227f7b2-e9ae-4846-947d-66231dd1ead0",
   "metadata": {},
   "outputs": [],
   "source": [
    "2. Which regions are generating the most revenue currently?"
   ]
  },
  {
   "cell_type": "code",
   "execution_count": 6,
   "id": "e34276c8-6fd8-4738-984a-ab80952a71a6",
   "metadata": {},
   "outputs": [
    {
     "name": "stdout",
     "output_type": "stream",
     "text": [
      "Regions with the most revenue:\n",
      "region\n",
      "North America      753\n",
      "Western Europe     323\n",
      "Eastern Europe     195\n",
      "Asia               187\n",
      "Africa             130\n",
      "South America      130\n",
      "Northern Africa     91\n",
      "Oceania             51\n",
      "Southern Africa     49\n",
      "Name: revenue, dtype: int64\n"
     ]
    }
   ],
   "source": [
    "# Group by region and sum the revenue\n",
    "region_revenue = df.groupby(\"region\")[\"revenue\"].sum().sort_values(ascending=False)\n",
    "\n",
    "print(\"Regions with the most revenue:\")\n",
    "print(region_revenue)\n"
   ]
  },
  {
   "cell_type": "code",
   "execution_count": null,
   "id": "dc7e4323-884a-4e29-9c0a-dea0211a5f6d",
   "metadata": {},
   "outputs": [],
   "source": [
    "3. Is there any particular website traffic that stands out when generating sales?"
   ]
  },
  {
   "cell_type": "code",
   "execution_count": 7,
   "id": "82fecceb-d91e-4486-a5d4-3a711e4ac947",
   "metadata": {},
   "outputs": [
    {
     "name": "stdout",
     "output_type": "stream",
     "text": [
      "Traffic sources with the most sales:\n",
      "traffic_type\n",
      "Google search          875\n",
      "Facebook ads           266\n",
      "Bing search            173\n",
      "Instagram ads          172\n",
      "Youtube channel         89\n",
      "Affiliate marketing     83\n",
      "Twitter                 65\n",
      "Youtube ads             54\n",
      "Instagram Page          46\n",
      "Tik Tok ads             37\n",
      "Direct Traffic          24\n",
      "Facebook page           12\n",
      "Yahoo Search             4\n",
      "Newsletter               3\n",
      "Other                    2\n",
      "Tik Tok page             2\n",
      "Pinterest                1\n",
      "Yandex search            1\n",
      "DuckDuckGo search        0\n",
      "Name: revenue, dtype: int64\n"
     ]
    }
   ],
   "source": [
    "# Group by traffic type and sum the revenue\n",
    "traffic_sales = df.groupby(\"traffic_type\")[\"revenue\"].sum().sort_values(ascending=False)\n",
    "\n",
    "print(\"Traffic sources with the most sales:\")\n",
    "print(traffic_sales)\n"
   ]
  },
  {
   "cell_type": "code",
   "execution_count": null,
   "id": "2a7095a5-bab6-4cc4-a42b-45736802cd82",
   "metadata": {},
   "outputs": [],
   "source": [
    "4. What percentage of time is spent on the website performing administrative/product or informational related tasks?"
   ]
  },
  {
   "cell_type": "code",
   "execution_count": 11,
   "id": "f914c26c-b2e8-4151-971e-2f0aa5b14f68",
   "metadata": {},
   "outputs": [
    {
     "name": "stdout",
     "output_type": "stream",
     "text": [
      "Average time spent on administrative tasks: 8.73%\n",
      "Average time spent on product-related tasks: 89.05%\n",
      "Average time spent on informational tasks: 2.23%\n"
     ]
    }
   ],
   "source": [
    "df.loc[:, \"total_duration\"] = df[\"administrative_duration\"] + df[\"product_related_duration\"] + df[\"informational_duration\"]\n",
    "\n",
    "df.loc[:, \"admin_percentage\"] = df[\"administrative_duration\"] / df[\"total_duration\"] * 100\n",
    "df.loc[:, \"product_percentage\"] = df[\"product_related_duration\"] / df[\"total_duration\"] * 100\n",
    "df.loc[:, \"info_percentage\"] = df[\"informational_duration\"] / df[\"total_duration\"] * 100\n",
    "\n",
    "avg_admin_time = df[\"admin_percentage\"].mean()\n",
    "avg_product_time = df[\"product_percentage\"].mean()\n",
    "avg_info_time = df[\"info_percentage\"].mean()\n",
    "\n",
    "print(f\"Average time spent on administrative tasks: {avg_admin_time:.2f}%\")\n",
    "print(f\"Average time spent on product-related tasks: {avg_product_time:.2f}%\")\n",
    "print(f\"Average time spent on informational tasks: {avg_info_time:.2f}%\")\n",
    "\n"
   ]
  },
  {
   "cell_type": "code",
   "execution_count": null,
   "id": "9d413b65-8fe5-4d84-9583-0988846fe77b",
   "metadata": {},
   "outputs": [],
   "source": [
    "5. Are there any informational/administrative tasks which users spend time doing most?"
   ]
  },
  {
   "cell_type": "code",
   "execution_count": 12,
   "id": "9b35dfd6-9c9a-4e7e-8301-3667cd7ce68c",
   "metadata": {},
   "outputs": [
    {
     "name": "stdout",
     "output_type": "stream",
     "text": [
      "Average time on administrative tasks: 84.83 seconds\n",
      "Average time on informational tasks: 34.61 seconds\n"
     ]
    }
   ],
   "source": [
    "# Find the average time spent on administrative and informational tasks\n",
    "admin_avg = df[\"administrative_duration\"].mean()\n",
    "info_avg = df[\"informational_duration\"].mean()\n",
    "\n",
    "print(f\"Average time on administrative tasks: {admin_avg:.2f} seconds\")\n",
    "print(f\"Average time on informational tasks: {info_avg:.2f} seconds\")\n"
   ]
  },
  {
   "cell_type": "code",
   "execution_count": null,
   "id": "51815430-3532-47cb-ad4a-014aa0ec62f4",
   "metadata": {},
   "outputs": [],
   "source": [
    "6. What is the breakdown of months making the most sales?"
   ]
  },
  {
   "cell_type": "code",
   "execution_count": 13,
   "id": "bcdbee3a-62d4-4eb6-ae43-06d8810236ed",
   "metadata": {},
   "outputs": [
    {
     "name": "stdout",
     "output_type": "stream",
     "text": [
      "Sales by month:\n",
      "month\n",
      "Nov     656\n",
      "May     306\n",
      "Dec     248\n",
      "Mar     152\n",
      "Oct     116\n",
      "Aug      68\n",
      "Sep      61\n",
      "Jul      57\n",
      "June     20\n",
      "Feb       5\n",
      "Name: revenue, dtype: int64\n"
     ]
    }
   ],
   "source": [
    "# Group by month and sum the revenue\n",
    "monthly_sales = df.groupby(\"month\")[\"revenue\"].sum().sort_values(ascending=False)\n",
    "\n",
    "print(\"Sales by month:\")\n",
    "print(monthly_sales)\n"
   ]
  }
 ],
 "metadata": {
  "kernelspec": {
   "display_name": "Python 3 (ipykernel)",
   "language": "python",
   "name": "python3"
  },
  "language_info": {
   "codemirror_mode": {
    "name": "ipython",
    "version": 3
   },
   "file_extension": ".py",
   "mimetype": "text/x-python",
   "name": "python",
   "nbconvert_exporter": "python",
   "pygments_lexer": "ipython3",
   "version": "3.12.3"
  }
 },
 "nbformat": 4,
 "nbformat_minor": 5
}
